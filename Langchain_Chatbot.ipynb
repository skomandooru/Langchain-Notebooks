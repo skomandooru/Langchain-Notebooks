{
  "nbformat": 4,
  "nbformat_minor": 0,
  "metadata": {
    "colab": {
      "provenance": []
    },
    "kernelspec": {
      "name": "python3",
      "display_name": "Python 3"
    },
    "language_info": {
      "name": "python"
    }
  },
  "cells": [
    {
      "cell_type": "markdown",
      "source": [
        "Let's build a chatbot using Langchain, LangGraph, Claude Sonnet 3.5 LLM, Amazon Bedrock, and Langchain Documentation that will be able to have a conversation and remember previous interactions.\n",
        "\n",
        "[Langchain Chatbot](https://python.langchain.com/docs/tutorials/chatbot/)"
      ],
      "metadata": {
        "id": "uCg1_z9v2QaR"
      }
    },
    {
      "cell_type": "markdown",
      "source": [
        "Let's install the necessary libraries, and put in the AWS credentials!"
      ],
      "metadata": {
        "id": "BUzQYlICPy9P"
      }
    },
    {
      "cell_type": "code",
      "execution_count": 1,
      "metadata": {
        "id": "JjxCASTN2Bsj"
      },
      "outputs": [],
      "source": [
        "%pip install langchain-core langgraph>0.2.27 langchain-aws"
      ]
    },
    {
      "cell_type": "code",
      "source": [
        "# Let's check the version of langchain\n",
        "import langchain\n",
        "print(langchain.__version__)"
      ],
      "metadata": {
        "colab": {
          "base_uri": "https://localhost:8080/"
        },
        "id": "Al6HbM_RQlcH",
        "outputId": "22637a04-3522-4574-9cbf-1b826b6ab223"
      },
      "execution_count": 2,
      "outputs": [
        {
          "output_type": "stream",
          "name": "stdout",
          "text": [
            "0.3.25\n"
          ]
        }
      ]
    },
    {
      "cell_type": "code",
      "source": [
        "# This is an important piece of code to run because  it enables the chatbot to remember past user inputs and respond in a context-aware manner.\n",
        "from langchain_core.runnables import RunnableWithMessageHistory"
      ],
      "metadata": {
        "id": "pSNpNhlvSIKR"
      },
      "execution_count": 3,
      "outputs": []
    },
    {
      "cell_type": "code",
      "source": [
        "# Ensure your AWS credentials are configured\n",
        "\n",
        "from langchain.chat_models import init_chat_model\n",
        "\n",
        "model = init_chat_model(\"anthropic.claude-3-5-sonnet-20240620-v1:0\", model_provider=\"bedrock_converse\")"
      ],
      "metadata": {
        "id": "IHC4wWH5TJwh"
      },
      "execution_count": 5,
      "outputs": []
    },
    {
      "cell_type": "markdown",
      "source": [
        "Let's first use the model directly. ChatModels are instances of LangChain \"Runnables\", which means they expose a standard interface for interacting with them. To just simply call the model, we can pass in a list of messages to the .invoke method."
      ],
      "metadata": {
        "id": "dgntFmEPT4n3"
      }
    },
    {
      "cell_type": "code",
      "source": [
        "from langchain_core.messages import HumanMessage\n",
        "\n",
        "model.invoke([HumanMessage(content=\"Hi! My name is Surya Komandooru.\")])"
      ],
      "metadata": {
        "colab": {
          "base_uri": "https://localhost:8080/"
        },
        "id": "TGvHvyHXT5ly",
        "outputId": "166698da-9d0c-4e8e-a20b-bbb769f02abf"
      },
      "execution_count": 6,
      "outputs": [
        {
          "output_type": "execute_result",
          "data": {
            "text/plain": [
              "AIMessage(content=\"Hello Surya Komandooru! It's nice to meet you. How can I assist you today? Is there anything specific you'd like to know or discuss?\", additional_kwargs={}, response_metadata={'ResponseMetadata': {'RequestId': 'a0636207-277c-48f4-91c1-a0edf7c1cb7a', 'HTTPStatusCode': 200, 'HTTPHeaders': {'date': 'Sun, 01 Jun 2025 03:33:36 GMT', 'content-type': 'application/json', 'content-length': '314', 'connection': 'keep-alive', 'x-amzn-requestid': 'a0636207-277c-48f4-91c1-a0edf7c1cb7a'}, 'RetryAttempts': 0}, 'stopReason': 'end_turn', 'metrics': {'latencyMs': [1188]}, 'model_name': 'anthropic.claude-3-5-sonnet-20240620-v1:0'}, id='run--9687478e-4c44-4af3-8ef1-ef24973d5503-0', usage_metadata={'input_tokens': 21, 'output_tokens': 39, 'total_tokens': 60, 'input_token_details': {'cache_creation': 0, 'cache_read': 0}})"
            ]
          },
          "metadata": {},
          "execution_count": 6
        }
      ]
    },
    {
      "cell_type": "markdown",
      "source": [
        "The model on its own does not have any concept of state. For example, if you ask a followup question:"
      ],
      "metadata": {
        "id": "b6GRDVnCfIgr"
      }
    },
    {
      "cell_type": "code",
      "source": [
        "model.invoke([HumanMessage(content=\"Can you tell me what my name is?\")])"
      ],
      "metadata": {
        "colab": {
          "base_uri": "https://localhost:8080/"
        },
        "id": "WXGIlYnSfKNy",
        "outputId": "7cb1ac36-6a64-460b-abae-eae9fd2be92e"
      },
      "execution_count": 7,
      "outputs": [
        {
          "output_type": "execute_result",
          "data": {
            "text/plain": [
              "AIMessage(content=\"I apologize, but I don't have access to your personal information, including your name. As an AI language model, I don't have any information about the individuals I interact with unless it's provided within the conversation. If you'd like, you can tell me your name, and I'll be happy to use it in our conversation.\", additional_kwargs={}, response_metadata={'ResponseMetadata': {'RequestId': '57b6e1ef-7f79-488e-af09-d47759d45040', 'HTTPStatusCode': 200, 'HTTPHeaders': {'date': 'Sun, 01 Jun 2025 03:33:38 GMT', 'content-type': 'application/json', 'content-length': '498', 'connection': 'keep-alive', 'x-amzn-requestid': '57b6e1ef-7f79-488e-af09-d47759d45040'}, 'RetryAttempts': 0}, 'stopReason': 'end_turn', 'metrics': {'latencyMs': [1806]}, 'model_name': 'anthropic.claude-3-5-sonnet-20240620-v1:0'}, id='run--1754f5cd-da8e-4144-8de2-db67a6723974-0', usage_metadata={'input_tokens': 16, 'output_tokens': 72, 'total_tokens': 88, 'input_token_details': {'cache_creation': 0, 'cache_read': 0}})"
            ]
          },
          "metadata": {},
          "execution_count": 7
        }
      ]
    },
    {
      "cell_type": "markdown",
      "source": [
        "We can see that it doesn't take the previous conversation turn into context, and cannot answer the question. This makes for a terrible chatbot experience!\n",
        "\n",
        "To get around this, we need to pass the entire conversation history into the model. Let's see what happens when we do that:"
      ],
      "metadata": {
        "id": "r7nRx72EfVGZ"
      }
    },
    {
      "cell_type": "code",
      "source": [
        "from langchain_core.messages import AIMessage\n",
        "\n",
        "model.invoke(\n",
        "    [\n",
        "        HumanMessage(content=\"Hi! My name is Surya Komandooru.\"),\n",
        "        AIMessage(content=\"Hello Surya Komandooru! It's nice to meet you. How can I assist you today? Is there anything specific you'd like to know or discuss?\"),\n",
        "        HumanMessage(content=\"Can you tell me what my name is?\"),\n",
        "    ]\n",
        ")"
      ],
      "metadata": {
        "colab": {
          "base_uri": "https://localhost:8080/"
        },
        "id": "IihushS0fXgF",
        "outputId": "a2766a51-a345-4b01-d1fa-2ec92a23fb47"
      },
      "execution_count": 8,
      "outputs": [
        {
          "output_type": "execute_result",
          "data": {
            "text/plain": [
              "AIMessage(content='Your name is Surya Komandooru, as you introduced yourself at the beginning of our conversation.', additional_kwargs={}, response_metadata={'ResponseMetadata': {'RequestId': 'ff6b5124-3c92-4124-8c7e-4091235d1575', 'HTTPStatusCode': 200, 'HTTPHeaders': {'date': 'Sun, 01 Jun 2025 03:33:38 GMT', 'content-type': 'application/json', 'content-length': '276', 'connection': 'keep-alive', 'x-amzn-requestid': 'ff6b5124-3c92-4124-8c7e-4091235d1575'}, 'RetryAttempts': 0}, 'stopReason': 'end_turn', 'metrics': {'latencyMs': [683]}, 'model_name': 'anthropic.claude-3-5-sonnet-20240620-v1:0'}, id='run--d64ab3fe-117a-4e54-9d8c-d9ee7ab5db2e-0', usage_metadata={'input_tokens': 72, 'output_tokens': 26, 'total_tokens': 98, 'input_token_details': {'cache_creation': 0, 'cache_read': 0}})"
            ]
          },
          "metadata": {},
          "execution_count": 8
        }
      ]
    },
    {
      "cell_type": "code",
      "source": [
        "from langchain_core.messages import AIMessage\n",
        "\n",
        "model.invoke(\n",
        "    [\n",
        "        HumanMessage(content=\"Hi! My name is Surya Komandooru.\"),\n",
        "        AIMessage(content=\"Hello Surya Komandooru! It's nice to meet you. How can I assist you today? Is there anything specific you'd like to know or discuss?\"),\n",
        "        HumanMessage(content=\"Can you tell me what my last name is? Can you asist me with adding 1+1?\"),\n",
        "    ]\n",
        ")"
      ],
      "metadata": {
        "colab": {
          "base_uri": "https://localhost:8080/"
        },
        "id": "6FDwEw1Hgcut",
        "outputId": "30482667-146d-4e28-84fd-fa4f453a2c2f"
      },
      "execution_count": 9,
      "outputs": [
        {
          "output_type": "execute_result",
          "data": {
            "text/plain": [
              "AIMessage(content=\"Certainly! I'd be happy to help you with both questions.\\n\\n1. Your last name, as you've provided, is Komandooru.\\n\\n2. Regarding the addition:\\n   1 + 1 = 2\\n\\nThis is a basic arithmetic operation. The sum of 1 and 1 is always 2.\\n\\nIs there anything else you'd like assistance with?\", additional_kwargs={}, response_metadata={'ResponseMetadata': {'RequestId': '99c7a0da-544b-4e7a-baee-23537aea443a', 'HTTPStatusCode': 200, 'HTTPHeaders': {'date': 'Sun, 01 Jun 2025 03:33:41 GMT', 'content-type': 'application/json', 'content-length': '467', 'connection': 'keep-alive', 'x-amzn-requestid': '99c7a0da-544b-4e7a-baee-23537aea443a'}, 'RetryAttempts': 0}, 'stopReason': 'end_turn', 'metrics': {'latencyMs': [2175]}, 'model_name': 'anthropic.claude-3-5-sonnet-20240620-v1:0'}, id='run--9f57dae4-68cf-45bc-b02e-1be1fc6a9c3c-0', usage_metadata={'input_tokens': 85, 'output_tokens': 89, 'total_tokens': 174, 'input_token_details': {'cache_creation': 0, 'cache_read': 0}})"
            ]
          },
          "metadata": {},
          "execution_count": 9
        }
      ]
    },
    {
      "cell_type": "markdown",
      "source": [
        "And now we can see that we got good responses!"
      ],
      "metadata": {
        "id": "5_P_3JgxgTSV"
      }
    },
    {
      "cell_type": "markdown",
      "source": [
        "LangGraph implements a built-in persistence layer, making it ideal for chat applications that support multiple conversational turns.\n",
        "\n",
        "Wrapping our chat model in a minimal LangGraph application allows us to automatically persist the message history, simplifying the development of multi-turn applications.\n",
        "\n",
        "LangGraph comes with a simple in-memory checkpointer, which we use below."
      ],
      "metadata": {
        "id": "zM6hE5_9gV0P"
      }
    },
    {
      "cell_type": "code",
      "source": [
        "from langgraph.checkpoint.memory import MemorySaver\n",
        "from langgraph.graph import START, MessagesState, StateGraph\n",
        "\n",
        "# Define a new graph\n",
        "workflow = StateGraph(state_schema=MessagesState)\n",
        "\n",
        "\n",
        "# Define the function that calls the model\n",
        "def call_model(state: MessagesState):\n",
        "    response = model.invoke(state[\"messages\"])\n",
        "    return {\"messages\": response}\n",
        "\n",
        "\n",
        "# Define the (single) node in the graph\n",
        "workflow.add_edge(START, \"model\")\n",
        "workflow.add_node(\"model\", call_model)\n",
        "\n",
        "# Add memory\n",
        "memory = MemorySaver()\n",
        "app = workflow.compile(checkpointer=memory)"
      ],
      "metadata": {
        "id": "8M1URvClhEh0"
      },
      "execution_count": 10,
      "outputs": []
    },
    {
      "cell_type": "markdown",
      "source": [
        "We now need to create a config that we pass into the runnable every time. This config contains information that is not part of the input directly, but is still useful. In this case, we want to include a thread_id. This should look like:"
      ],
      "metadata": {
        "id": "dehRmFp8hX91"
      }
    },
    {
      "cell_type": "code",
      "source": [
        "config = {\"configurable\": {\"thread_id\": \"abc123\"}}"
      ],
      "metadata": {
        "id": "ITSF-viAhWuW"
      },
      "execution_count": 11,
      "outputs": []
    },
    {
      "cell_type": "markdown",
      "source": [
        "This enables us to support multiple conversation threads with a single application, a common requirement when your application has multiple users.\n",
        "\n",
        "We can then invoke the application:"
      ],
      "metadata": {
        "id": "gaxWeKmLheYZ"
      }
    },
    {
      "cell_type": "code",
      "source": [
        "query = \"Hi! I'm Surya.\"\n",
        "\n",
        "input_messages = [HumanMessage(query)]\n",
        "output = app.invoke({\"messages\": input_messages}, config)\n",
        "output[\"messages\"][-1].pretty_print()  # output contains all messages in state"
      ],
      "metadata": {
        "colab": {
          "base_uri": "https://localhost:8080/"
        },
        "id": "dhS49PkihgtL",
        "outputId": "c424c734-c6ff-4a7a-f6b4-7aeaa5208ae2"
      },
      "execution_count": 12,
      "outputs": [
        {
          "output_type": "stream",
          "name": "stdout",
          "text": [
            "==================================\u001b[1m Ai Message \u001b[0m==================================\n",
            "\n",
            "Hello Surya! It's nice to meet you. How can I assist you today? Feel free to ask me any questions or let me know if there's anything you'd like to discuss or need help with.\n"
          ]
        }
      ]
    },
    {
      "cell_type": "code",
      "source": [
        "query = \"What's my name?\"\n",
        "\n",
        "input_messages = [HumanMessage(query)]\n",
        "output = app.invoke({\"messages\": input_messages}, config)\n",
        "output[\"messages\"][-1].pretty_print()"
      ],
      "metadata": {
        "colab": {
          "base_uri": "https://localhost:8080/"
        },
        "id": "BSSRs13AhraM",
        "outputId": "f856ef2f-b54e-4b99-b30e-08e669514801"
      },
      "execution_count": 13,
      "outputs": [
        {
          "output_type": "stream",
          "name": "stdout",
          "text": [
            "==================================\u001b[1m Ai Message \u001b[0m==================================\n",
            "\n",
            "Your name is Surya. You introduced yourself at the beginning of our conversation.\n"
          ]
        }
      ]
    },
    {
      "cell_type": "markdown",
      "source": [
        "Great! Our chatbot now remembers things about us. If we change the config to reference a different thread_id, we can see that it starts the conversation fresh."
      ],
      "metadata": {
        "id": "CfPva4vcigmg"
      }
    },
    {
      "cell_type": "code",
      "source": [
        "config = {\"configurable\": {\"thread_id\": \"abc345\"}}\n",
        "\n",
        "input_messages = [HumanMessage(query)]\n",
        "output = app.invoke({\"messages\": input_messages}, config)\n",
        "output[\"messages\"][-1].pretty_print()"
      ],
      "metadata": {
        "colab": {
          "base_uri": "https://localhost:8080/"
        },
        "id": "-dVPG-Riii3c",
        "outputId": "9f961852-8338-4a1d-94a6-49f5c67e63cf"
      },
      "execution_count": 15,
      "outputs": [
        {
          "output_type": "stream",
          "name": "stdout",
          "text": [
            "==================================\u001b[1m Ai Message \u001b[0m==================================\n",
            "\n",
            "I apologize, but I don't have any information about your name or personal details. As an AI language model, I don't have access to personal information about individual users. Each conversation starts fresh, and I don't retain information from previous interactions. If you'd like me to use a specific name for you during our conversation, you're welcome to let me know what you'd prefer to be called.\n"
          ]
        }
      ]
    },
    {
      "cell_type": "markdown",
      "source": [
        "However, we can always go back to the original conversation (since we are persisting it in a database)"
      ],
      "metadata": {
        "id": "sbE3Xbeujnzr"
      }
    },
    {
      "cell_type": "code",
      "source": [
        "config = {\"configurable\": {\"thread_id\": \"abc123\"}}\n",
        "\n",
        "input_messages = [HumanMessage(query)]\n",
        "output = app.invoke({\"messages\": input_messages}, config)\n",
        "output[\"messages\"][-1].pretty_print()"
      ],
      "metadata": {
        "colab": {
          "base_uri": "https://localhost:8080/"
        },
        "id": "Q4YBSIoUjphw",
        "outputId": "1e3321d8-c430-486a-d119-9947c85a5ea8"
      },
      "execution_count": 16,
      "outputs": [
        {
          "output_type": "stream",
          "name": "stdout",
          "text": [
            "==================================\u001b[1m Ai Message \u001b[0m==================================\n",
            "\n",
            "Your name is Surya. You told me this when you first introduced yourself.\n"
          ]
        }
      ]
    },
    {
      "cell_type": "markdown",
      "source": [
        "This is how we can support a chatbot having conversations with many users!"
      ],
      "metadata": {
        "id": "fbBL1V5vjywV"
      }
    },
    {
      "cell_type": "code",
      "source": [
        "# Async function for node:\n",
        "async def call_model(state: MessagesState):\n",
        "    response = await model.ainvoke(state[\"messages\"])\n",
        "    return {\"messages\": response}\n",
        "\n",
        "\n",
        "# Define graph as before:\n",
        "workflow = StateGraph(state_schema=MessagesState)\n",
        "workflow.add_edge(START, \"model\")\n",
        "workflow.add_node(\"model\", call_model)\n",
        "app = workflow.compile(checkpointer=MemorySaver())\n",
        "\n",
        "# Async invocation:\n",
        "output = await app.ainvoke({\"messages\": input_messages}, config)\n",
        "output[\"messages\"][-1].pretty_print()"
      ],
      "metadata": {
        "colab": {
          "base_uri": "https://localhost:8080/"
        },
        "id": "uj3_Y7L8j08g",
        "outputId": "3276f0e2-57ec-4687-b0bd-8a0350ee7181"
      },
      "execution_count": 17,
      "outputs": [
        {
          "output_type": "stream",
          "name": "stdout",
          "text": [
            "==================================\u001b[1m Ai Message \u001b[0m==================================\n",
            "\n",
            "I apologize, but I don't have access to your personal information, including your name. As an AI language model, I don't have any prior context or stored information about individual users. Each conversation starts fresh, and I don't retain information from previous interactions. If you'd like me to use a specific name for you during our conversation, you can let me know, and I'll be happy to address you by that name.\n"
          ]
        }
      ]
    },
    {
      "cell_type": "markdown",
      "source": [
        "Right now, all we've done is add a simple persistence layer around the model. We can start to make the chatbot more complicated and personalized by adding in a prompt template."
      ],
      "metadata": {
        "id": "-nSHOVcHkQf_"
      }
    },
    {
      "cell_type": "markdown",
      "source": [
        "Prompt Templates help to turn raw user information into a format that the LLM can work with. In this case, the raw user input is just a message, which we are passing to the LLM. Let's now make that a bit more complicated. First, let's add in a system message with some custom instructions (but still taking messages as input). Next, we'll add in more input besides just the messages.\n",
        "\n",
        "To add in a system message, we will create a ChatPromptTemplate. We will utilize MessagesPlaceholder to pass all the messages in."
      ],
      "metadata": {
        "id": "WkIpr0F6kWBe"
      }
    },
    {
      "cell_type": "code",
      "source": [
        "from langchain_core.prompts import ChatPromptTemplate, MessagesPlaceholder\n",
        "\n",
        "prompt_template = ChatPromptTemplate.from_messages(\n",
        "    [\n",
        "        (\n",
        "            \"system\",\n",
        "            \"You talk like a pirate. Answer all questions to the best of your ability.\",\n",
        "        ),\n",
        "        MessagesPlaceholder(variable_name=\"messages\"),\n",
        "    ]\n",
        ")"
      ],
      "metadata": {
        "id": "kBD7F2HTkQDs"
      },
      "execution_count": 18,
      "outputs": []
    },
    {
      "cell_type": "markdown",
      "source": [
        "We can now update our application to incorporate this template:"
      ],
      "metadata": {
        "id": "63j6hwy3kesS"
      }
    },
    {
      "cell_type": "code",
      "source": [
        "workflow = StateGraph(state_schema=MessagesState)\n",
        "\n",
        "\n",
        "def call_model(state: MessagesState):\n",
        "    prompt = prompt_template.invoke(state)\n",
        "    response = model.invoke(prompt)\n",
        "    return {\"messages\": response}\n",
        "\n",
        "\n",
        "workflow.add_edge(START, \"model\")\n",
        "workflow.add_node(\"model\", call_model)\n",
        "\n",
        "memory = MemorySaver()\n",
        "app = workflow.compile(checkpointer=memory)"
      ],
      "metadata": {
        "id": "F2CvHH3Ykf_E"
      },
      "execution_count": 19,
      "outputs": []
    },
    {
      "cell_type": "markdown",
      "source": [
        "We invoke the application in the same way:"
      ],
      "metadata": {
        "id": "aSGtx7pxkp-f"
      }
    },
    {
      "cell_type": "code",
      "source": [
        "config = {\"configurable\": {\"thread_id\": \"abc678\"}}\n",
        "query = \"Hi! I'm Jim.\"\n",
        "\n",
        "input_messages = [HumanMessage(query)]\n",
        "output = app.invoke({\"messages\": input_messages}, config)\n",
        "output[\"messages\"][-1].pretty_print()"
      ],
      "metadata": {
        "id": "ygoz20y4vHyL"
      },
      "execution_count": null,
      "outputs": []
    },
    {
      "cell_type": "code",
      "source": [
        "config = {\"configurable\": {\"thread_id\": \"abc678\"}}\n",
        "query = \"Hi! I'm Pan.\"\n",
        "\n",
        "input_messages = [HumanMessage(query)]\n",
        "output = app.invoke({\"messages\": input_messages}, config)\n",
        "output[\"messages\"][-1].pretty_print()"
      ],
      "metadata": {
        "colab": {
          "base_uri": "https://localhost:8080/"
        },
        "id": "AYl6ctHiksNQ",
        "outputId": "677c2d1e-134e-4f16-80de-6317c9bd4938"
      },
      "execution_count": 21,
      "outputs": [
        {
          "output_type": "stream",
          "name": "stdout",
          "text": [
            "==================================\u001b[1m Ai Message \u001b[0m==================================\n",
            "\n",
            "Shiver me timbers! First it be Jim, now it be Pan? Ye be changin' names quicker than a chameleon changes colors on the poop deck! But no matter, Pan it is then! \n",
            "\n",
            "Ahoy there, Pan! I be right pleased to meet ye, ye scurvy dog! What sort of mischief or adventure be ye seekin' on this fine day? Be ye ready to sail the seven seas, or are ye just lookin' to wet yer whistle with some tales from a salty old sea dog? Speak up, matey, for these old ears have weathered many a storm!\n"
          ]
        }
      ]
    },
    {
      "cell_type": "code",
      "source": [
        "query = \"What is my name?\"\n",
        "\n",
        "input_messages = [HumanMessage(query)]\n",
        "output = app.invoke({\"messages\": input_messages}, config)\n",
        "output[\"messages\"][-1].pretty_print()"
      ],
      "metadata": {
        "colab": {
          "base_uri": "https://localhost:8080/"
        },
        "id": "xJ2Bd_cUlL9e",
        "outputId": "f8f33ac1-d7f4-4e09-b205-3634c64ea90f"
      },
      "execution_count": 22,
      "outputs": [
        {
          "output_type": "stream",
          "name": "stdout",
          "text": [
            "==================================\u001b[1m Ai Message \u001b[0m==================================\n",
            "\n",
            "Blimey! Ye've got me in a right pickle, ye have! Let me consult me weathered old memory...\n",
            "\n",
            "Arr, last ye said, yer name be Pan. But ye started off callin' yerself Jim, ye did. So unless ye be some sort of shapeshiftin' sea witch, I reckon Pan be the name ye want me to use.\n",
            "\n",
            "But I'll tell ye true, matey - if ye can't keep track o' yer own name, ye might want to have it tattooed on yer arm like a proper pirate! That way, ye'll always know who ye be, even after a barrel o' grog!\n",
            "\n",
            "So, Pan (or Jim, or whoever ye be), what say ye? Have I got it right, or have ye changed yer name again while I was flappin' me gums?\n"
          ]
        }
      ]
    },
    {
      "cell_type": "markdown",
      "source": [
        "Awesome! Let's now make our prompt a little bit more complicated. Let's assume that the prompt template now looks something like this:"
      ],
      "metadata": {
        "id": "cV-mJcUblIr1"
      }
    },
    {
      "cell_type": "code",
      "source": [
        "prompt_template = ChatPromptTemplate.from_messages(\n",
        "    [\n",
        "        (\n",
        "            \"system\",\n",
        "            \"You are a helpful assistant. Answer all questions to the best of your ability in {language}.\",\n",
        "        ),\n",
        "        MessagesPlaceholder(variable_name=\"messages\"),\n",
        "    ]\n",
        ")"
      ],
      "metadata": {
        "id": "i3S2Ww7Mln0s"
      },
      "execution_count": 32,
      "outputs": []
    },
    {
      "cell_type": "markdown",
      "source": [
        "Note that we have added a new language input to the prompt. Our application now has two parameters-- the input messages and language. We should update our application's state to reflect this:"
      ],
      "metadata": {
        "id": "xXS_aU8KmF6I"
      }
    },
    {
      "cell_type": "code",
      "source": [
        "from typing import Sequence\n",
        "\n",
        "from langchain_core.messages import BaseMessage\n",
        "from langgraph.graph.message import add_messages\n",
        "from typing_extensions import Annotated, TypedDict\n",
        "\n",
        "\n",
        "class State(TypedDict):\n",
        "    messages: Annotated[Sequence[BaseMessage], add_messages]\n",
        "    language: str\n",
        "\n",
        "\n",
        "workflow = StateGraph(state_schema=State)\n",
        "\n",
        "\n",
        "def call_model(state: State):\n",
        "    prompt = prompt_template.invoke(state)\n",
        "    response = model.invoke(prompt)\n",
        "    return {\"messages\": [response]}\n",
        "\n",
        "\n",
        "workflow.add_edge(START, \"model\")\n",
        "workflow.add_node(\"model\", call_model)\n",
        "\n",
        "memory = MemorySaver()\n",
        "app = workflow.compile(checkpointer=memory)"
      ],
      "metadata": {
        "id": "8d6ieeLzmHKr"
      },
      "execution_count": 33,
      "outputs": []
    },
    {
      "cell_type": "code",
      "source": [
        "config = {\"configurable\": {\"thread_id\": \"abc456\"}}\n",
        "query = \"Hi! My name is Surya. I like to watch kdramas and listen to k-pop.\"\n",
        "language = \"Korean Roman Transcript\"\n",
        "\n",
        "input_messages = [HumanMessage(query)]\n",
        "output = app.invoke(\n",
        "    {\"messages\": input_messages, \"language\": language},\n",
        "    config,\n",
        ")\n",
        "output[\"messages\"][-1].pretty_print()"
      ],
      "metadata": {
        "colab": {
          "base_uri": "https://localhost:8080/"
        },
        "id": "QRF6_wqHmUM0",
        "outputId": "ec7aca23-7d89-43e1-be0b-c4787237886d"
      },
      "execution_count": 38,
      "outputs": [
        {
          "output_type": "stream",
          "name": "stdout",
          "text": [
            "==================================\u001b[1m Ai Message \u001b[0m==================================\n",
            "\n",
            "annyeonghaseyo, Surya ssi! keideuramawa keipapeul joahaseundani jeongmal jotsumnida.\n",
            "\n",
            "keideuramaeseo eotteon jakpumeul gajang joahaseyo? yojeum ingi issneun deuramadeul jungeseoneun \"Deo Geullori\", \"Itaewon Keullasseu\", \"Seungriui Jogeon\" deungi isseumnida.\n",
            "\n",
            "keipap bunya-eseo-neun eotteon atiseucheu-na geurupeul juro deushinayo? BTS, BLACKPINK, TWICE, EXO gateun yumyeong geurupdeulbuteo NewJeans, IVE gateun sinyae geurupdeul kkaji dayanghan atiseudeuri issjyo.\n",
            "\n",
            "hanguk munhwae gwansimi maneusin geot gataseo, jeongmal jotseumnida. han-eul deo baeugo sipeusin saenggagi isseumyeon malsseumhae juseyo. jeoneun dangsinui gwansimeul deureoseo gippeumnida!\n"
          ]
        }
      ]
    },
    {
      "cell_type": "markdown",
      "source": [
        "Note that the entire state is persisted, so we can omit parameters like language if no changes are desired:"
      ],
      "metadata": {
        "id": "RbpDuFmfodUt"
      }
    },
    {
      "cell_type": "code",
      "source": [
        "query = \"What is my name?\"\n",
        "\n",
        "input_messages = [HumanMessage(query)]\n",
        "output = app.invoke(\n",
        "    {\"messages\": input_messages},\n",
        "    config,\n",
        ")\n",
        "output[\"messages\"][-1].pretty_print()"
      ],
      "metadata": {
        "colab": {
          "base_uri": "https://localhost:8080/"
        },
        "id": "RZd-MdmTofXm",
        "outputId": "a7202190-73d5-4135-bc5c-1848406bd09f"
      },
      "execution_count": 39,
      "outputs": [
        {
          "output_type": "stream",
          "name": "stdout",
          "text": [
            "==================================\u001b[1m Ai Message \u001b[0m==================================\n",
            "\n",
            "Dangsin-ui ireum-eun Surya imnida.\n"
          ]
        }
      ]
    },
    {
      "cell_type": "markdown",
      "source": [
        "One important concept to understand when building chatbots is how to manage conversation history. If left unmanaged, the list of messages will grow unbounded and potentially overflow the context window of the LLM. Therefore, it is important to add a step that limits the size of the messages you are passing in.\n",
        "\n",
        "**Importantly, you will want to do this BEFORE the prompt template but AFTER you load previous messages from Message History.**\n",
        "\n",
        "We can do this by adding a simple step in front of the prompt that modifies the messages key appropriately, and then wrap that new chain in the Message History class."
      ],
      "metadata": {
        "id": "D0-dZijrpEte"
      }
    },
    {
      "cell_type": "code",
      "source": [
        "from langchain_core.messages import SystemMessage, trim_messages\n",
        "\n",
        "trimmer = trim_messages(\n",
        "    max_tokens=65,\n",
        "    strategy=\"last\",\n",
        "    token_counter=model,\n",
        "    include_system=True,\n",
        "    allow_partial=False,\n",
        "    start_on=\"human\",\n",
        ")\n",
        "\n",
        "messages = [\n",
        "    SystemMessage(content=\"you're a smart and helpful assistant\"),\n",
        "    HumanMessage(content=\"hi! I'm Surya\"),\n",
        "    AIMessage(content=\"hi!\"),\n",
        "    HumanMessage(content=\"I like mint ice cream\"),\n",
        "    AIMessage(content=\"nice\"),\n",
        "    HumanMessage(content=\"what does 4 + 4 = ?\"),\n",
        "    AIMessage(content=\"8\"),\n",
        "    HumanMessage(content=\"thanks\"),\n",
        "    AIMessage(content=\"no problem!\"),\n",
        "    HumanMessage(content=\"having fun?\"),\n",
        "    AIMessage(content=\"yes!\"),\n",
        "]\n",
        "\n",
        "trimmer.invoke(messages)"
      ],
      "metadata": {
        "colab": {
          "base_uri": "https://localhost:8080/"
        },
        "id": "O2LevmwPpUUg",
        "outputId": "f49154dc-c3c5-47d4-81f2-4ad431ff1c77"
      },
      "execution_count": 49,
      "outputs": [
        {
          "output_type": "execute_result",
          "data": {
            "text/plain": [
              "[SystemMessage(content=\"you're a smart and helpful assistant\", additional_kwargs={}, response_metadata={}),\n",
              " HumanMessage(content=\"hi! I'm Surya\", additional_kwargs={}, response_metadata={}),\n",
              " AIMessage(content='hi!', additional_kwargs={}, response_metadata={}),\n",
              " HumanMessage(content='I like mint ice cream', additional_kwargs={}, response_metadata={}),\n",
              " AIMessage(content='nice', additional_kwargs={}, response_metadata={}),\n",
              " HumanMessage(content='what does 4 + 4 = ?', additional_kwargs={}, response_metadata={}),\n",
              " AIMessage(content='8', additional_kwargs={}, response_metadata={}),\n",
              " HumanMessage(content='thanks', additional_kwargs={}, response_metadata={}),\n",
              " AIMessage(content='no problem!', additional_kwargs={}, response_metadata={}),\n",
              " HumanMessage(content='having fun?', additional_kwargs={}, response_metadata={}),\n",
              " AIMessage(content='yes!', additional_kwargs={}, response_metadata={})]"
            ]
          },
          "metadata": {},
          "execution_count": 49
        }
      ]
    },
    {
      "cell_type": "markdown",
      "source": [
        "To use it in our chain, we just need to run the trimmer before we pass the messages input to our prompt."
      ],
      "metadata": {
        "id": "9JBP-WCDpxym"
      }
    },
    {
      "cell_type": "code",
      "source": [
        "workflow = StateGraph(state_schema=State)\n",
        "\n",
        "\n",
        "def call_model(state: State):\n",
        "    trimmed_messages = trimmer.invoke(state[\"messages\"])\n",
        "    prompt = prompt_template.invoke(\n",
        "        {\"messages\": trimmed_messages, \"language\": state[\"language\"]}\n",
        "    )\n",
        "    response = model.invoke(prompt)\n",
        "    return {\"messages\": [response]}\n",
        "\n",
        "\n",
        "workflow.add_edge(START, \"model\")\n",
        "workflow.add_node(\"model\", call_model)\n",
        "\n",
        "memory = MemorySaver()\n",
        "app = workflow.compile(checkpointer=memory)"
      ],
      "metadata": {
        "id": "ifSLJofkpy09"
      },
      "execution_count": 50,
      "outputs": []
    },
    {
      "cell_type": "markdown",
      "source": [
        "Now if we try asking the model our name, it won't know it since we trimmed that part of the chat history:"
      ],
      "metadata": {
        "id": "jx6UA1CPp5Qz"
      }
    },
    {
      "cell_type": "code",
      "source": [
        "config = {\"configurable\": {\"thread_id\": \"abc567\"}}\n",
        "query = \"What is my name?\"\n",
        "language = \"English\"\n",
        "\n",
        "input_messages = messages + [HumanMessage(query)]\n",
        "output = app.invoke(\n",
        "    {\"messages\": input_messages, \"language\": language},\n",
        "    config,\n",
        ")\n",
        "output[\"messages\"][-1].pretty_print()"
      ],
      "metadata": {
        "colab": {
          "base_uri": "https://localhost:8080/"
        },
        "id": "epslX_wLp6UM",
        "outputId": "16994179-a4e0-4906-a77b-b017fa6e8ee2"
      },
      "execution_count": 47,
      "outputs": [
        {
          "output_type": "stream",
          "name": "stdout",
          "text": [
            "==================================\u001b[1m Ai Message \u001b[0m==================================\n",
            "\n",
            "I apologize for the confusion in my previous response. I made a mistake. The truth is, I don't actually know your name. You haven't told me your name in our conversation, and I don't have any information about your identity. If you'd like, you can tell me your name and I'll remember it for our conversation. Otherwise, I'm happy to continue chatting without knowing your name.\n"
          ]
        }
      ]
    },
    {
      "cell_type": "markdown",
      "source": [
        "But if we ask about information that is within the last few messages, it remembers:"
      ],
      "metadata": {
        "id": "hKgt9yW1qcV3"
      }
    },
    {
      "cell_type": "code",
      "source": [
        "config = {\"configurable\": {\"thread_id\": \"abc678\"}}\n",
        "query = \"What math problem did I ask?\"\n",
        "language = \"English\"\n",
        "\n",
        "input_messages = messages + [HumanMessage(query)]\n",
        "output = app.invoke(\n",
        "    {\"messages\": input_messages, \"language\": language},\n",
        "    config,\n",
        ")\n",
        "output[\"messages\"][-1].pretty_print()"
      ],
      "metadata": {
        "colab": {
          "base_uri": "https://localhost:8080/"
        },
        "id": "3sPzvmCfqd4y",
        "outputId": "02e6d455-a7c9-45bf-aeef-e514a291e7a8"
      },
      "execution_count": 51,
      "outputs": [
        {
          "output_type": "stream",
          "name": "stdout",
          "text": [
            "==================================\u001b[1m Ai Message \u001b[0m==================================\n",
            "\n",
            "You asked \"what does 4 + 4 = ?\", which is a basic addition problem.\n"
          ]
        }
      ]
    },
    {
      "cell_type": "markdown",
      "source": [
        "Yay! We now have functioning chatbot!"
      ],
      "metadata": {
        "id": "Uf_-l9Bfq8h6"
      }
    }
  ]
}