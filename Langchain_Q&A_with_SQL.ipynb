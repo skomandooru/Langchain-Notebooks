{
  "nbformat": 4,
  "nbformat_minor": 0,
  "metadata": {
    "colab": {
      "provenance": []
    },
    "kernelspec": {
      "name": "python3",
      "display_name": "Python 3"
    },
    "language_info": {
      "name": "python"
    }
  },
  "cells": [
    {
      "cell_type": "markdown",
      "source": [
        "Used Langchain, LangGraph, Claude Sonnet 3.5 LLM, Amazon Bedrock, SQL, SQL Chains to build a question and answering system over SQL data using the langchain documentation.\n",
        "\n",
        "[Langchain Q&A with SQL](https://python.langchain.com/docs/tutorials/sql_qa/)"
      ],
      "metadata": {
        "id": "44iE-BsvetXh"
      }
    },
    {
      "cell_type": "markdown",
      "source": [
        "At a high-level, the steps of these systems are:\n",
        "\n",
        "\n",
        "1. Convert question to SQL query: Model converts user input to a SQL query.  \n",
        "2. Execute SQL query: Execute the query.\n",
        "3. Answer the question: Model responds to user input using the query results.\n",
        "\n",
        "\n"
      ],
      "metadata": {
        "id": "TCakI6UUvhdu"
      }
    },
    {
      "cell_type": "markdown",
      "source": [
        "Let's install the required packages and put in the AWS credentials."
      ],
      "metadata": {
        "id": "SaYeUJHlwOGp"
      }
    },
    {
      "cell_type": "code",
      "execution_count": 1,
      "metadata": {
        "id": "EIpkCZeUemLS"
      },
      "outputs": [],
      "source": [
        "%%capture --no-stderr"
      ]
    },
    {
      "cell_type": "code",
      "source": [
        "%pip install --upgrade --quiet langchain-community langgraph langchain-aws"
      ],
      "metadata": {
        "id": "Vue9q2uE0j7S"
      },
      "execution_count": 13,
      "outputs": []
    },
    {
      "cell_type": "markdown",
      "source": [
        "I will be using a SQLite connection with the Chinook database, which is a sample database that represents a digital media store."
      ],
      "metadata": {
        "id": "Vug3Ed-swnF3"
      }
    },
    {
      "cell_type": "code",
      "source": [
        "!apt-get install sqlite3\n",
        "!curl -s https://raw.githubusercontent.com/lerocha/chinook-database/master/ChinookDatabase/DataSources/Chinook_Sqlite.sql | sqlite3 Chinook.db"
      ],
      "metadata": {
        "colab": {
          "base_uri": "https://localhost:8080/"
        },
        "id": "h4WbT5uhw8rX",
        "outputId": "310fafb3-b86e-4055-f279-1c83bbc886ea"
      },
      "execution_count": 8,
      "outputs": [
        {
          "output_type": "stream",
          "name": "stdout",
          "text": [
            "Reading package lists... Done\n",
            "Building dependency tree... Done\n",
            "Reading state information... Done\n",
            "Suggested packages:\n",
            "  sqlite3-doc\n",
            "The following NEW packages will be installed:\n",
            "  sqlite3\n",
            "0 upgraded, 1 newly installed, 0 to remove and 35 not upgraded.\n",
            "Need to get 769 kB of archives.\n",
            "After this operation, 1,873 kB of additional disk space will be used.\n",
            "Get:1 http://archive.ubuntu.com/ubuntu jammy-updates/main amd64 sqlite3 amd64 3.37.2-2ubuntu0.4 [769 kB]\n",
            "Fetched 769 kB in 1s (832 kB/s)\n",
            "Selecting previously unselected package sqlite3.\n",
            "(Reading database ... 126109 files and directories currently installed.)\n",
            "Preparing to unpack .../sqlite3_3.37.2-2ubuntu0.4_amd64.deb ...\n",
            "Unpacking sqlite3 (3.37.2-2ubuntu0.4) ...\n",
            "Setting up sqlite3 (3.37.2-2ubuntu0.4) ...\n",
            "Processing triggers for man-db (2.10.2-1) ...\n"
          ]
        }
      ]
    },
    {
      "cell_type": "markdown",
      "source": [
        "Now, Chinook.db is in our directory and we can interface with it using the SQLAlchemy-driven SQLDatabase class:"
      ],
      "metadata": {
        "id": "gpTLrGo2yKXe"
      }
    },
    {
      "cell_type": "code",
      "source": [
        "from langchain_community.utilities import SQLDatabase\n",
        "\n",
        "db = SQLDatabase.from_uri(\"sqlite:///Chinook.db\")\n",
        "print(db.dialect)\n",
        "print(db.get_usable_table_names())\n",
        "db.run(\"SELECT * FROM Artist LIMIT 10;\")"
      ],
      "metadata": {
        "colab": {
          "base_uri": "https://localhost:8080/",
          "height": 88
        },
        "id": "TwIlNhghyVFX",
        "outputId": "93e5a08a-b82c-4e9f-fa60-3b0e172ee321"
      },
      "execution_count": 9,
      "outputs": [
        {
          "output_type": "stream",
          "name": "stdout",
          "text": [
            "sqlite\n",
            "['Album', 'Artist', 'Customer', 'Employee', 'Genre', 'Invoice', 'InvoiceLine', 'MediaType', 'Playlist', 'PlaylistTrack', 'Track']\n"
          ]
        },
        {
          "output_type": "execute_result",
          "data": {
            "text/plain": [
              "\"[(1, 'AC/DC'), (2, 'Accept'), (3, 'Aerosmith'), (4, 'Alanis Morissette'), (5, 'Alice In Chains'), (6, 'Antônio Carlos Jobim'), (7, 'Apocalyptica'), (8, 'Audioslave'), (9, 'BackBeat'), (10, 'Billy Cobham')]\""
            ],
            "application/vnd.google.colaboratory.intrinsic+json": {
              "type": "string"
            }
          },
          "metadata": {},
          "execution_count": 9
        }
      ]
    },
    {
      "cell_type": "markdown",
      "source": [
        "Great! We've got a SQL database that we can query. Now let's try connecting it to an LLM."
      ],
      "metadata": {
        "id": "csa6dOZ3yew4"
      }
    },
    {
      "cell_type": "markdown",
      "source": [
        "Chains are compositions of predictable steps. Let's create a sequence of steps that, given a question, does the following:\n",
        "\n",
        "\n",
        "*  converts the question into a SQL query\n",
        "*  executes the query\n",
        "*  uses the result to answer the original question.\n",
        "\n",
        "There are scenarios not supported by this arrangement. For example, this system will execute a SQL query for any user input-- even \"hello\". Importantly, as we'll see below, some questions require more than one query to answer."
      ],
      "metadata": {
        "id": "aO4_7jcpy1U7"
      }
    },
    {
      "cell_type": "markdown",
      "source": [
        "The LangGraph state of our application controls what data is input to the application, transferred between steps, and output by the application. It is typically a TypedDict, but can also be a Pydantic BaseModel.\n",
        "\n",
        "For this application, we can just keep track of the input question, generated query, query result, and generated answer:"
      ],
      "metadata": {
        "id": "tPt8IVh2z3uz"
      }
    },
    {
      "cell_type": "code",
      "source": [
        "from typing_extensions import TypedDict\n",
        "\n",
        "\n",
        "class State(TypedDict):\n",
        "    question: str\n",
        "    query: str\n",
        "    result: str\n",
        "    answer: str"
      ],
      "metadata": {
        "id": "YD8fkE-ayoe3"
      },
      "execution_count": 10,
      "outputs": []
    },
    {
      "cell_type": "markdown",
      "source": [
        "The first step is to take the user input and convert it to a SQL query. To reliably obtain SQL queries, we will make use of LangChain's structured output abstraction."
      ],
      "metadata": {
        "id": "muBIF6P90Adz"
      }
    },
    {
      "cell_type": "code",
      "source": [
        "# Ensure your AWS credentials are configured\n",
        "\n",
        "from langchain.chat_models import init_chat_model\n",
        "\n",
        "llm = init_chat_model(\"anthropic.claude-3-5-sonnet-20240620-v1:0\", model_provider=\"bedrock_converse\")"
      ],
      "metadata": {
        "id": "umD4xwuY0VHu"
      },
      "execution_count": 14,
      "outputs": []
    },
    {
      "cell_type": "markdown",
      "source": [
        "Let's provide some instructions for our model:"
      ],
      "metadata": {
        "id": "rEhmO1xQ0zrB"
      }
    },
    {
      "cell_type": "code",
      "source": [
        "from langchain_core.prompts import ChatPromptTemplate\n",
        "\n",
        "system_message = \"\"\"\n",
        "Given an input question, create a syntactically correct {dialect} query to\n",
        "run to help find the answer. Unless the user specifies in his question a\n",
        "specific number of examples they wish to obtain, always limit your query to\n",
        "at most {top_k} results. You can order the results by a relevant column to\n",
        "return the most interesting examples in the database.\n",
        "\n",
        "Never query for all the columns from a specific table, only ask for a the\n",
        "few relevant columns given the question.\n",
        "\n",
        "Pay attention to use only the column names that you can see in the schema\n",
        "description. Be careful to not query for columns that do not exist. Also,\n",
        "pay attention to which column is in which table.\n",
        "\n",
        "Only use the following tables:\n",
        "{table_info}\n",
        "\"\"\"\n",
        "\n",
        "user_prompt = \"Question: {input}\"\n",
        "\n",
        "query_prompt_template = ChatPromptTemplate(\n",
        "    [(\"system\", system_message), (\"user\", user_prompt)]\n",
        ")\n",
        "\n",
        "for message in query_prompt_template.messages:\n",
        "    message.pretty_print()"
      ],
      "metadata": {
        "colab": {
          "base_uri": "https://localhost:8080/"
        },
        "id": "q6Vp0rml033X",
        "outputId": "6b19c403-78b7-4740-9087-bbc3ea4a8542"
      },
      "execution_count": 15,
      "outputs": [
        {
          "output_type": "stream",
          "name": "stdout",
          "text": [
            "================================\u001b[1m System Message \u001b[0m================================\n",
            "\n",
            "\n",
            "Given an input question, create a syntactically correct \u001b[33;1m\u001b[1;3m{dialect}\u001b[0m query to\n",
            "run to help find the answer. Unless the user specifies in his question a\n",
            "specific number of examples they wish to obtain, always limit your query to\n",
            "at most \u001b[33;1m\u001b[1;3m{top_k}\u001b[0m results. You can order the results by a relevant column to\n",
            "return the most interesting examples in the database.\n",
            "\n",
            "Never query for all the columns from a specific table, only ask for a the\n",
            "few relevant columns given the question.\n",
            "\n",
            "Pay attention to use only the column names that you can see in the schema\n",
            "description. Be careful to not query for columns that do not exist. Also,\n",
            "pay attention to which column is in which table.\n",
            "\n",
            "Only use the following tables:\n",
            "\u001b[33;1m\u001b[1;3m{table_info}\u001b[0m\n",
            "\n",
            "================================\u001b[1m Human Message \u001b[0m=================================\n",
            "\n",
            "Question: \u001b[33;1m\u001b[1;3m{input}\u001b[0m\n"
          ]
        }
      ]
    },
    {
      "cell_type": "markdown",
      "source": [
        "The prompt includes several parameters we will need to populate, such as the SQL dialect and table schemas. LangChain's SQLDatabase object includes methods to help with this. Our write_query step will just populate these parameters and prompt a model to generate the SQL query:"
      ],
      "metadata": {
        "id": "IZQYap6a09vn"
      }
    },
    {
      "cell_type": "code",
      "source": [
        "from typing_extensions import Annotated\n",
        "\n",
        "\n",
        "class QueryOutput(TypedDict):\n",
        "    \"\"\"Generated SQL query.\"\"\"\n",
        "\n",
        "    query: Annotated[str, ..., \"Syntactically valid SQL query.\"]\n",
        "\n",
        "\n",
        "def write_query(state: State):\n",
        "    \"\"\"Generate SQL query to fetch information.\"\"\"\n",
        "    prompt = query_prompt_template.invoke(\n",
        "        {\n",
        "            \"dialect\": db.dialect,\n",
        "            \"top_k\": 10,\n",
        "            \"table_info\": db.get_table_info(),\n",
        "            \"input\": state[\"question\"],\n",
        "        }\n",
        "    )\n",
        "\n",
        "    structured_llm = llm.with_structured_output(QueryOutput)\n",
        "    result = structured_llm.invoke(prompt)\n",
        "    return {\"query\": result[\"query\"]}"
      ],
      "metadata": {
        "id": "TgZAhflv1FPg"
      },
      "execution_count": 22,
      "outputs": []
    },
    {
      "cell_type": "markdown",
      "source": [
        "Let's test it out:"
      ],
      "metadata": {
        "id": "4XFs4tUG1JeL"
      }
    },
    {
      "cell_type": "code",
      "source": [
        "write_query({\"question\": \"How many Employees are there?\"})"
      ],
      "metadata": {
        "colab": {
          "base_uri": "https://localhost:8080/"
        },
        "id": "kDJi9ZsQ1N_h",
        "outputId": "a4076b25-4d83-4676-86d3-ba05b7d0d6f2"
      },
      "execution_count": 23,
      "outputs": [
        {
          "output_type": "execute_result",
          "data": {
            "text/plain": [
              "{'query': 'SELECT COUNT(*) AS EmployeeCount FROM Employee;'}"
            ]
          },
          "metadata": {},
          "execution_count": 23
        }
      ]
    },
    {
      "cell_type": "markdown",
      "source": [
        "This is the most dangerous part of creating a SQL chain. Consider carefully if it is OK to run automated queries over your data. Minimize the database connection permissions as much as possible. Consider adding a human approval step to you chains before query execution (see below).\n",
        "\n",
        "To execute the query, I will load a tool from langchain-community. The execute_query node will just wrap this tool:"
      ],
      "metadata": {
        "id": "-9mmJ7Ti14ZN"
      }
    },
    {
      "cell_type": "code",
      "source": [
        "from langchain_community.tools.sql_database.tool import QuerySQLDatabaseTool\n",
        "\n",
        "\n",
        "def execute_query(state: State):\n",
        "    \"\"\"Execute SQL query.\"\"\"\n",
        "    execute_query_tool = QuerySQLDatabaseTool(db=db)\n",
        "    return {\"result\": execute_query_tool.invoke(state[\"query\"])}"
      ],
      "metadata": {
        "id": "S44a7MXi3mln"
      },
      "execution_count": 24,
      "outputs": []
    },
    {
      "cell_type": "markdown",
      "source": [
        "Let's test this step:"
      ],
      "metadata": {
        "id": "_bqMLrJ72NP5"
      }
    },
    {
      "cell_type": "code",
      "source": [
        "execute_query({\"query\": \"SELECT COUNT(EmployeeId) AS EmployeeCount FROM Employee;\"})"
      ],
      "metadata": {
        "colab": {
          "base_uri": "https://localhost:8080/"
        },
        "id": "8Yoqp9MH16ec",
        "outputId": "062fe3ac-95e4-4936-cec7-d4e8ac1c556d"
      },
      "execution_count": 25,
      "outputs": [
        {
          "output_type": "execute_result",
          "data": {
            "text/plain": [
              "{'result': '[(8,)]'}"
            ]
          },
          "metadata": {},
          "execution_count": 25
        }
      ]
    },
    {
      "cell_type": "markdown",
      "source": [
        "Finally, the last step generates an answer to the question given the information pulled from the database:"
      ],
      "metadata": {
        "id": "HJOrpYK83vmR"
      }
    },
    {
      "cell_type": "code",
      "source": [
        "def generate_answer(state: State):\n",
        "    \"\"\"Answer question using retrieved information as context.\"\"\"\n",
        "    prompt = (\n",
        "        \"Given the following user question, corresponding SQL query, \"\n",
        "        \"and SQL result, answer the user question.\\n\\n\"\n",
        "        f'Question: {state[\"question\"]}\\n'\n",
        "        f'SQL Query: {state[\"query\"]}\\n'\n",
        "        f'SQL Result: {state[\"result\"]}'\n",
        "    )\n",
        "    response = llm.invoke(prompt)\n",
        "    return {\"answer\": response.content}"
      ],
      "metadata": {
        "id": "34JKKWQz306M"
      },
      "execution_count": 26,
      "outputs": []
    },
    {
      "cell_type": "markdown",
      "source": [
        "Finally, I will compile my application into a single graph object. In this case, I am connecting all three steps into a single sequence."
      ],
      "metadata": {
        "id": "LBT-RRUV33p4"
      }
    },
    {
      "cell_type": "code",
      "source": [
        "from langgraph.graph import START, StateGraph\n",
        "\n",
        "graph_builder = StateGraph(State).add_sequence(\n",
        "    [write_query, execute_query, generate_answer]\n",
        ")\n",
        "graph_builder.add_edge(START, \"write_query\")\n",
        "graph = graph_builder.compile()"
      ],
      "metadata": {
        "id": "qxfKNQ1t4FhX"
      },
      "execution_count": 27,
      "outputs": []
    },
    {
      "cell_type": "markdown",
      "source": [
        "LangGraph also comes with built-in utilities for visualizing the control flow of your application:"
      ],
      "metadata": {
        "id": "iUsJIg9r4J2k"
      }
    },
    {
      "cell_type": "code",
      "source": [
        "from IPython.display import Image, display\n",
        "\n",
        "display(Image(graph.get_graph().draw_mermaid_png()))"
      ],
      "metadata": {
        "colab": {
          "base_uri": "https://localhost:8080/",
          "height": 449
        },
        "id": "x7OOQCJ-4VnA",
        "outputId": "16212590-5728-4131-83cc-a4941adab0f2"
      },
      "execution_count": 28,
      "outputs": [
        {
          "output_type": "display_data",
          "data": {
            "image/png": "[encoded data removed]",
            "text/plain": [
              "<IPython.core.display.Image object>"
            ]
          },
          "metadata": {}
        }
      ]
    },
    {
      "cell_type": "markdown",
      "source": [
        "Let's test our application!"
      ],
      "metadata": {
        "id": "SNfMh5u_4hpQ"
      }
    },
    {
      "cell_type": "code",
      "source": [
        "for step in graph.stream(\n",
        "    {\"question\": \"How many employees are there?\"}, stream_mode=\"updates\"\n",
        "):\n",
        "    print(step)"
      ],
      "metadata": {
        "colab": {
          "base_uri": "https://localhost:8080/"
        },
        "id": "npF3_VB64pFk",
        "outputId": "c384d70e-feea-4641-c3ea-08c8ee6f2258"
      },
      "execution_count": 29,
      "outputs": [
        {
          "output_type": "stream",
          "name": "stdout",
          "text": [
            "{'write_query': {'query': 'SELECT COUNT(*) AS employee_count FROM Employee'}}\n",
            "{'execute_query': {'result': '[(8,)]'}}\n",
            "{'generate_answer': {'answer': 'Based on the SQL query result, the answer to the user\\'s question \"How many employees are there?\" is:\\n\\nThere are 8 employees.\\n\\nThe SQL query counted all the rows in the Employee table, and the result shows a single count of 8, indicating that there are 8 employees in total.'}}\n"
          ]
        }
      ]
    },
    {
      "cell_type": "markdown",
      "source": [
        "LangGraph supports a number of features that can be useful for this workflow. One of them is human-in-the-loop: we can interrupt our application before sensitive steps (such as the execution of a SQL query) for human review. This is enabled by LangGraph's persistence layer, which saves run progress to your storage of choice. Below, we specify storage in-memory:"
      ],
      "metadata": {
        "id": "z8guWuf24vlz"
      }
    },
    {
      "cell_type": "code",
      "source": [
        "from langgraph.checkpoint.memory import MemorySaver\n",
        "\n",
        "memory = MemorySaver()\n",
        "graph = graph_builder.compile(checkpointer=memory, interrupt_before=[\"execute_query\"])\n",
        "\n",
        "# Now that we're using persistence, we need to specify a thread ID\n",
        "# so that we can continue the run after review.\n",
        "config = {\"configurable\": {\"thread_id\": \"1\"}}"
      ],
      "metadata": {
        "id": "Pv8YewGt44D6"
      },
      "execution_count": 30,
      "outputs": []
    },
    {
      "cell_type": "markdown",
      "source": [
        "Let's visualize the memory we saved!"
      ],
      "metadata": {
        "id": "ZdRgEnHx47jb"
      }
    },
    {
      "cell_type": "code",
      "source": [
        "display(Image(graph.get_graph().draw_mermaid_png()))"
      ],
      "metadata": {
        "colab": {
          "base_uri": "https://localhost:8080/",
          "height": 491
        },
        "id": "fEQiBFlX5DfJ",
        "outputId": "6857cbc8-a1e9-4208-e863-6b7ca49b2e27"
      },
      "execution_count": 31,
      "outputs": [
        {
          "output_type": "display_data",
          "data": {
            "image/png": "[encoded data removed]",
            "text/plain": [
              "<IPython.core.display.Image object>"
            ]
          },
          "metadata": {}
        }
      ]
    },
    {
      "cell_type": "markdown",
      "source": [
        "I didn’t use agents in this notebook, but they can be integrated with LLMs to dynamically make decisions during query execution. While less predictable than chains, agents offer greater adaptability by allowing retries and leveraging both schema and data."
      ],
      "metadata": {
        "id": "wKhVal786Bz8"
      }
    }
  ]
}